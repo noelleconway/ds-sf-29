{
 "cells": [
  {
   "cell_type": "markdown",
   "metadata": {},
   "source": [
    "### Class 7- Starter code\n"
   ]
  },
  {
   "cell_type": "code",
   "execution_count": 1,
   "metadata": {
    "collapsed": false
   },
   "outputs": [],
   "source": [
    "import numpy as np\n",
    "import pandas as pd\n",
    "from sklearn import linear_model, metrics\n"
   ]
  },
  {
   "cell_type": "markdown",
   "metadata": {},
   "source": [
    "###Create sample data and fit a model"
   ]
  },
  {
   "cell_type": "code",
   "execution_count": 2,
   "metadata": {
    "collapsed": false
   },
   "outputs": [],
   "source": [
    "df = pd.DataFrame({'x': range(100), 'y': range(100)})\n",
    "biased_df  = df.copy()\n",
    "biased_df.loc[:20, 'x'] = 1\n",
    "biased_df.loc[:20, 'y'] = 1\n",
    "\n",
    "def append_jitter(series):\n",
    "    jitter = np.random.random_sample(size=100)\n",
    "    return series + jitter\n",
    "\n",
    "df['x'] = append_jitter(df.x)\n",
    "df['y'] = append_jitter(df.y)\n",
    "\n",
    "biased_df['x'] = append_jitter(biased_df.x)\n",
    "biased_df['y'] = append_jitter(biased_df.y)\n"
   ]
  },
  {
   "cell_type": "code",
   "execution_count": 3,
   "metadata": {
    "collapsed": false
   },
   "outputs": [
    {
     "name": "stdout",
     "output_type": "stream",
     "text": [
      "0.150444268245\n"
     ]
    }
   ],
   "source": [
    "## fit\n",
    "lm = linear_model.LinearRegression().fit(df[['x']], df['y'])\n",
    "print metrics.mean_squared_error(df['y'], lm.predict(df[['x']]))\n"
   ]
  },
  {
   "cell_type": "code",
   "execution_count": 4,
   "metadata": {
    "collapsed": false
   },
   "outputs": [
    {
     "name": "stdout",
     "output_type": "stream",
     "text": [
      "0.155109149792\n"
     ]
    }
   ],
   "source": [
    "## biased fit\n",
    "lm = linear_model.LinearRegression().fit(biased_df[['x']], biased_df['y'])\n",
    "print metrics.mean_squared_error(df['y'], lm.predict(df[['x']]))"
   ]
  },
  {
   "cell_type": "markdown",
   "metadata": {},
   "source": [
    "## Cross validation\n",
    "#### Intro to cross validation with bike share data from last time. We will be modeling casual ridership. "
   ]
  },
  {
   "cell_type": "code",
   "execution_count": 6,
   "metadata": {
    "collapsed": true
   },
   "outputs": [],
   "source": [
    "from sklearn import cross_validation\n",
    "wd = '../../assets/dataset/'\n",
    "bikeshare = pd.read_csv(wd + 'bikeshare.csv')"
   ]
  },
  {
   "cell_type": "markdown",
   "metadata": {},
   "source": [
    "####Create dummy variables and set outcome (dependent) variable"
   ]
  },
  {
   "cell_type": "code",
   "execution_count": 7,
   "metadata": {
    "collapsed": true
   },
   "outputs": [],
   "source": [
    "weather = pd.get_dummies(bikeshare.weathersit, prefix='weather')\n",
    "modeldata = bikeshare[['temp', 'hum']].join(weather[['weather_1', 'weather_2', 'weather_3']])\n",
    "y = bikeshare.casual "
   ]
  },
  {
   "cell_type": "markdown",
   "metadata": {},
   "source": [
    "#### Create a cross valiation with 5 folds"
   ]
  },
  {
   "cell_type": "code",
   "execution_count": 8,
   "metadata": {
    "collapsed": true
   },
   "outputs": [],
   "source": [
    "kf = cross_validation.KFold(len(modeldata), n_folds=5, shuffle=True)"
   ]
  },
  {
   "cell_type": "code",
   "execution_count": 9,
   "metadata": {
    "collapsed": false
   },
   "outputs": [
    {
     "name": "stdout",
     "output_type": "stream",
     "text": [
      "~~~~ CROSS VALIDATION each fold ~~~~\n",
      "Model 1\n",
      "MSE: 1648.7854579\n",
      "R2: 0.311895478054\n",
      "Model 2\n",
      "MSE: 1695.31808369\n",
      "R2: 0.311917825252\n",
      "Model 3\n",
      "MSE: 1675.55131281\n",
      "R2: 0.311914787439\n",
      "Model 4\n",
      "MSE: 1660.9468518\n",
      "R2: 0.311891396785\n",
      "Model 5\n",
      "MSE: 1685.29095006\n",
      "R2: 0.31191706436\n",
      "~~~~ SUMMARY OF CROSS VALIDATION ~~~~\n",
      "Mean of MSE for all folds: 1673.17853125\n",
      "Mean of R2 for all folds: 0.311907310378\n"
     ]
    }
   ],
   "source": [
    "mse_values = []\n",
    "scores = []\n",
    "n= 0\n",
    "print \"~~~~ CROSS VALIDATION each fold ~~~~\"\n",
    "for train_index, test_index in kf:\n",
    "    lm = linear_model.LinearRegression().fit(modeldata.iloc[train_index], y.iloc[train_index])\n",
    "    mse_values.append(metrics.mean_squared_error(y.iloc[test_index], lm.predict(modeldata.iloc[test_index])))\n",
    "    scores.append(lm.score(modeldata, y))\n",
    "    n+=1\n",
    "    print 'Model', n\n",
    "    print 'MSE:', mse_values[n-1]\n",
    "    print 'R2:', scores[n-1]\n",
    "\n",
    "\n",
    "print \"~~~~ SUMMARY OF CROSS VALIDATION ~~~~\"\n",
    "print 'Mean of MSE for all folds:', np.mean(mse_values)\n",
    "print 'Mean of R2 for all folds:', np.mean(scores)"
   ]
  },
  {
   "cell_type": "code",
   "execution_count": 10,
   "metadata": {
    "collapsed": false
   },
   "outputs": [
    {
     "name": "stdout",
     "output_type": "stream",
     "text": [
      "~~~~ Single Model ~~~~\n",
      "MSE of single model: 1672.58110765\n",
      "R2:  0.311934605989\n"
     ]
    }
   ],
   "source": [
    "lm = linear_model.LinearRegression().fit(modeldata, y)\n",
    "print \"~~~~ Single Model ~~~~\"\n",
    "print 'MSE of single model:', metrics.mean_squared_error(y, lm.predict(modeldata))\n",
    "print 'R2: ', lm.score(modeldata, y)"
   ]
  },
  {
   "cell_type": "markdown",
   "metadata": {},
   "source": [
    "### Check\n",
    "While the cross validated approach here generated more overall error, which of the two approaches would predict new data more accurately: the single model or the cross validated, averaged one? Why?\n"
   ]
  },
  {
   "cell_type": "markdown",
   "metadata": {},
   "source": [
    "Answer: "
   ]
  },
  {
   "cell_type": "markdown",
   "metadata": {},
   "source": [
    "### There are ways to improve our model with regularization. \n",
    "Let's check out the effects on MSE and R2"
   ]
  },
  {
   "cell_type": "code",
   "execution_count": 11,
   "metadata": {
    "collapsed": false
   },
   "outputs": [
    {
     "name": "stdout",
     "output_type": "stream",
     "text": [
      "~~~ OLS ~~~\n",
      "OLS MSE:  1672.58110765\n",
      "OLS R2: 0.311934605989\n",
      "~~~ Lasso ~~~\n",
      "Lasso MSE:  1725.41581608\n",
      "Lasso R2: 0.290199495922\n",
      "~~~ Ridge ~~~\n",
      "Ridge MSE:  1672.60490113\n",
      "Ridge R2: 0.311924817843\n"
     ]
    }
   ],
   "source": [
    "lm = linear_model.LinearRegression().fit(modeldata, y)\n",
    "print \"~~~ OLS ~~~\"\n",
    "print 'OLS MSE: ', metrics.mean_squared_error(y, lm.predict(modeldata))\n",
    "print 'OLS R2:', lm.score(modeldata, y)\n",
    "\n",
    "lm = linear_model.Lasso().fit(modeldata, y)\n",
    "print \"~~~ Lasso ~~~\"\n",
    "print 'Lasso MSE: ', metrics.mean_squared_error(y, lm.predict(modeldata))\n",
    "print 'Lasso R2:', lm.score(modeldata, y)\n",
    "\n",
    "lm = linear_model.Ridge().fit(modeldata, y)\n",
    "print \"~~~ Ridge ~~~\"\n",
    "print 'Ridge MSE: ', metrics.mean_squared_error(y, lm.predict(modeldata))\n",
    "print 'Ridge R2:', lm.score(modeldata, y)"
   ]
  },
  {
   "cell_type": "markdown",
   "metadata": {},
   "source": [
    "### Figuring out the alphas can be done by \"hand\""
   ]
  },
  {
   "cell_type": "code",
   "execution_count": 12,
   "metadata": {
    "collapsed": false
   },
   "outputs": [
    {
     "name": "stdout",
     "output_type": "stream",
     "text": [
      "Alpha: 1e-10\n",
      "[ 112.68901765  -84.01121684  -24.68489063  -21.00314493  -21.71893628]\n",
      "1672.58110765\n",
      "Alpha: 1e-09\n",
      "[ 112.68901765  -84.01121684  -24.68489061  -21.00314491  -21.71893626]\n",
      "1672.58110765\n",
      "Alpha: 1e-08\n",
      "[ 112.68901765  -84.01121684  -24.6848904   -21.00314471  -21.71893606]\n",
      "1672.58110765\n",
      "Alpha: 1e-07\n",
      "[ 112.68901763  -84.01121682  -24.68488837  -21.00314268  -21.71893403]\n",
      "1672.58110765\n",
      "Alpha: 1e-06\n",
      "[ 112.68901745  -84.01121667  -24.68486804  -21.00312237  -21.71891373]\n",
      "1672.58110765\n",
      "Alpha: 1e-05\n",
      "[ 112.68901562  -84.01121509  -24.68466472  -21.00291929  -21.71871079]\n",
      "1672.58110765\n",
      "Alpha: 0.0001\n",
      "[ 112.68899732  -84.01119938  -24.68263174  -21.00088873  -21.71668162]\n",
      "1672.58110765\n",
      "Alpha: 0.001\n",
      "[ 112.68881437  -84.01104228  -24.66232204  -20.98060316  -21.69640993]\n",
      "1672.58110774\n",
      "Alpha: 0.01\n",
      "[ 112.68698753  -84.00947323  -24.46121539  -20.77973778  -21.49568404]\n",
      "1672.58111645\n",
      "Alpha: 0.1\n",
      "[ 112.66896732  -83.99396383  -22.63109556  -18.95202277  -19.66942371]\n",
      "1672.58185208\n",
      "Alpha: 1.0\n",
      "[ 112.50129738  -83.84805622  -13.38214934   -9.72671278  -10.46162477]\n",
      "1672.60490113\n",
      "Alpha: 10.0\n",
      "[ 110.96062533  -82.49604961   -3.94431741   -0.51765034   -1.45024412]\n",
      "1672.83347262\n",
      "Alpha: 100.0\n",
      "[ 97.69060562 -71.17602377  -0.31585194   1.18284675  -1.33281591]\n",
      "1686.31830362\n",
      "Alpha: 1000.0\n",
      "[ 44.59923075 -30.85843772   5.07876321   0.05369643  -5.107457  ]\n",
      "1937.81576044\n",
      "Alpha: 10000.0\n",
      "[ 7.03007064 -5.07733082  3.29039029 -1.2136063  -2.06842808]\n",
      "2314.83675678\n",
      "Alpha: 100000.0\n",
      "[ 0.75195708 -0.56490872  0.52067881 -0.25075496 -0.26895254]\n",
      "2415.77806566\n",
      "Alpha: 1000000.0\n",
      "[ 0.07576571 -0.05727511  0.05520142 -0.0273591  -0.02774349]\n",
      "2429.28026459\n",
      "Alpha: 10000000.0\n",
      "[ 0.00758239 -0.00573569  0.0055535  -0.00276043 -0.00278317]\n",
      "2430.68891798\n",
      "Alpha: 100000000.0\n",
      "[ 0.0007583  -0.00057365  0.00055569 -0.00027629 -0.00027841]\n",
      "2430.83041212\n",
      "Alpha: 1000000000.0\n",
      "[  7.58303020e-05  -5.73659720e-05   5.55719458e-05  -2.76314619e-05\n",
      "  -2.78414555e-05]\n",
      "2430.84456787\n",
      "Alpha: 10000000000.0\n",
      "[  7.58303603e-06  -5.73660542e-06   5.55722818e-06  -2.76317091e-06\n",
      "  -2.78415441e-06]\n",
      "2430.84598351\n"
     ]
    }
   ],
   "source": [
    "alphas = np.logspace(-10, 10, 21)\n",
    "for a in alphas:\n",
    "    print 'Alpha:', a\n",
    "    lm = linear_model.Ridge(alpha=a)\n",
    "    lm.fit(modeldata, y)\n",
    "    print lm.coef_\n",
    "    print metrics.mean_squared_error(y, lm.predict(modeldata))"
   ]
  },
  {
   "cell_type": "markdown",
   "metadata": {},
   "source": [
    "### Or we can use grid search to make this faster"
   ]
  },
  {
   "cell_type": "code",
   "execution_count": 33,
   "metadata": {
    "collapsed": false
   },
   "outputs": [
    {
     "data": {
      "text/plain": [
       "GridSearchCV(cv=None, error_score='raise',\n",
       "       estimator=Ridge(alpha=1.0, copy_X=True, fit_intercept=True, max_iter=None,\n",
       "   normalize=False, random_state=None, solver='auto', tol=0.001),\n",
       "       fit_params={}, iid=True, n_jobs=1,\n",
       "       param_grid={'alpha': array([  1.00000e-10,   1.00000e-09,   1.00000e-08,   1.00000e-07,\n",
       "         1.00000e-06,   1.00000e-05,   1.00000e-04,   1.00000e-03,\n",
       "         1.00000e-02,   1.00000e-01,   1.00000e+00,   1.00000e+01,\n",
       "         1.00000e+02,   1.00000e+03,   1.00000e+04,   1.00000e+05,\n",
       "         1.00000e+06,   1.00000e+07,   1.00000e+08,   1.00000e+09,\n",
       "         1.00000e+10])},\n",
       "       pre_dispatch='2*n_jobs', refit=True, scoring='mean_squared_error',\n",
       "       verbose=0)"
      ]
     },
     "execution_count": 33,
     "metadata": {},
     "output_type": "execute_result"
    }
   ],
   "source": [
    "from sklearn import grid_search\n",
    "\n",
    "alphas = np.logspace(-10, 10, 21)\n",
    "gs = grid_search.GridSearchCV(\n",
    "    estimator=linear_model.Ridge(),\n",
    "    param_grid={'alpha': alphas},\n",
    "    scoring='mean_squared_error')\n",
    "\n",
    "gs.fit(modeldata, y)"
   ]
  },
  {
   "cell_type": "raw",
   "metadata": {},
   "source": [
    "linear_model.ElasticNet()"
   ]
  },
  {
   "cell_type": "code",
   "execution_count": 52,
   "metadata": {
    "collapsed": false,
    "scrolled": true
   },
   "outputs": [
    {
     "data": {
      "text/plain": [
       "GridSearchCV(cv=None, error_score='raise',\n",
       "       estimator=ElasticNet(alpha=1.0, copy_X=True, fit_intercept=True, l1_ratio=0.5,\n",
       "      max_iter=1000, normalize=False, positive=False, precompute=False,\n",
       "      random_state=None, selection='cyclic', tol=0.0001, warm_start=False),\n",
       "       fit_params={}, iid=True, n_jobs=1,\n",
       "       param_grid={'alpha': array([  1.00000e-10,   1.00000e-09,   1.00000e-08,   1.00000e-07,\n",
       "         1.00000e-06,   1.00000e-05,   1.00000e-04,   1.00000e-03,\n",
       "         1.00000e-02,   1.00000e-01,   1.00000e+00,   1.00000e+01,\n",
       "         1.00000e+02,   1.00000e+03,   1.00000e+04,   1.00000e+05,\n",
       "         1.00000e+06,   1.00000e+07,   1.00000e+08,   1.00000e+09,\n",
       "         1.00000e+10]), 'l1_ratio': [0.1, 0.5, 0.9], 'fit_intercept': [True, False]},\n",
       "       pre_dispatch='2*n_jobs', refit=True, scoring='mean_squared_error',\n",
       "       verbose=0)"
      ]
     },
     "execution_count": 52,
     "metadata": {},
     "output_type": "execute_result"
    }
   ],
   "source": [
    "import sklearn\n",
    "sklearn.__version__\n",
    "\n",
    "alphas = np.logspace(-10, 10, 21)\n",
    "es = grid_search.GridSearchCV(\n",
    "    estimator=linear_model.ElasticNet(),\n",
    "    param_grid={'alpha': alphas, 'fit_intercept': [True, False], 'l1_ratio': [0.1, 0.5, 0.9]},\n",
    "    scoring='mean_squared_error')\n",
    "\n",
    "es.fit(modeldata, y)"
   ]
  },
  {
   "cell_type": "markdown",
   "metadata": {},
   "source": [
    "##### Best score "
   ]
  },
  {
   "cell_type": "code",
   "execution_count": 48,
   "metadata": {
    "collapsed": false
   },
   "outputs": [
    {
     "name": "stdout",
     "output_type": "stream",
     "text": [
      "-1808.83341108\n"
     ]
    }
   ],
   "source": [
    "print es.best_score_ "
   ]
  },
  {
   "cell_type": "markdown",
   "metadata": {},
   "source": [
    "##### mean squared error here comes in negative, so let's make it positive."
   ]
  },
  {
   "cell_type": "code",
   "execution_count": 49,
   "metadata": {
    "collapsed": false
   },
   "outputs": [
    {
     "name": "stdout",
     "output_type": "stream",
     "text": [
      "1808.83341108\n"
     ]
    }
   ],
   "source": [
    "print -es.best_score_ "
   ]
  },
  {
   "cell_type": "markdown",
   "metadata": {},
   "source": [
    "##### explains which grid_search setup worked best"
   ]
  },
  {
   "cell_type": "code",
   "execution_count": 50,
   "metadata": {
    "collapsed": false
   },
   "outputs": [
    {
     "name": "stdout",
     "output_type": "stream",
     "text": [
      "ElasticNet(alpha=0.01, copy_X=True, fit_intercept=False, l1_ratio=0.6,\n",
      "      max_iter=1000, normalize=False, positive=False, precompute=False,\n",
      "      random_state=None, selection='cyclic', tol=0.0001, warm_start=False)\n"
     ]
    }
   ],
   "source": [
    "print es.best_estimator_ "
   ]
  },
  {
   "cell_type": "markdown",
   "metadata": {},
   "source": [
    "##### shows all the grid pairings and their performances."
   ]
  },
  {
   "cell_type": "code",
   "execution_count": 51,
   "metadata": {
    "collapsed": false
   },
   "outputs": [
    {
     "name": "stdout",
     "output_type": "stream",
     "text": [
      "[mean: -1817.60095, std: 542.18184, params: {'alpha': 1e-10, 'l1_ratio': 0.1, 'fit_intercept': True}, mean: -1817.60095, std: 542.18184, params: {'alpha': 1e-10, 'l1_ratio': 0.5, 'fit_intercept': True}, mean: -1817.60095, std: 542.18184, params: {'alpha': 1e-10, 'l1_ratio': 0.6, 'fit_intercept': True}, mean: -1818.23138, std: 542.35715, params: {'alpha': 1e-10, 'l1_ratio': 0.1, 'fit_intercept': False}, mean: -1818.23138, std: 542.35715, params: {'alpha': 1e-10, 'l1_ratio': 0.5, 'fit_intercept': False}, mean: -1818.23138, std: 542.35715, params: {'alpha': 1e-10, 'l1_ratio': 0.6, 'fit_intercept': False}, mean: -1817.60095, std: 542.18185, params: {'alpha': 1.0000000000000001e-09, 'l1_ratio': 0.1, 'fit_intercept': True}, mean: -1817.60095, std: 542.18184, params: {'alpha': 1.0000000000000001e-09, 'l1_ratio': 0.5, 'fit_intercept': True}, mean: -1817.60095, std: 542.18184, params: {'alpha': 1.0000000000000001e-09, 'l1_ratio': 0.6, 'fit_intercept': True}, mean: -1818.23137, std: 542.35717, params: {'alpha': 1.0000000000000001e-09, 'l1_ratio': 0.1, 'fit_intercept': False}, mean: -1818.23138, std: 542.35716, params: {'alpha': 1.0000000000000001e-09, 'l1_ratio': 0.5, 'fit_intercept': False}, mean: -1818.23138, std: 542.35716, params: {'alpha': 1.0000000000000001e-09, 'l1_ratio': 0.6, 'fit_intercept': False}, mean: -1817.60091, std: 542.18199, params: {'alpha': 1e-08, 'l1_ratio': 0.1, 'fit_intercept': True}, mean: -1817.60093, std: 542.18192, params: {'alpha': 1e-08, 'l1_ratio': 0.5, 'fit_intercept': True}, mean: -1817.60093, std: 542.18190, params: {'alpha': 1e-08, 'l1_ratio': 0.6, 'fit_intercept': True}, mean: -1818.23132, std: 542.35734, params: {'alpha': 1e-08, 'l1_ratio': 0.1, 'fit_intercept': False}, mean: -1818.23135, std: 542.35725, params: {'alpha': 1e-08, 'l1_ratio': 0.5, 'fit_intercept': False}, mean: -1818.23135, std: 542.35723, params: {'alpha': 1e-08, 'l1_ratio': 0.6, 'fit_intercept': False}, mean: -1817.60054, std: 542.18337, params: {'alpha': 9.9999999999999995e-08, 'l1_ratio': 0.1, 'fit_intercept': True}, mean: -1817.60072, std: 542.18269, params: {'alpha': 9.9999999999999995e-08, 'l1_ratio': 0.5, 'fit_intercept': True}, mean: -1817.60077, std: 542.18253, params: {'alpha': 9.9999999999999995e-08, 'l1_ratio': 0.6, 'fit_intercept': True}, mean: -1818.23079, std: 542.35901, params: {'alpha': 9.9999999999999995e-08, 'l1_ratio': 0.1, 'fit_intercept': False}, mean: -1818.23105, std: 542.35820, params: {'alpha': 9.9999999999999995e-08, 'l1_ratio': 0.5, 'fit_intercept': False}, mean: -1818.23112, std: 542.35799, params: {'alpha': 9.9999999999999995e-08, 'l1_ratio': 0.6, 'fit_intercept': False}, mean: -1817.59682, std: 542.19715, params: {'alpha': 9.9999999999999995e-07, 'l1_ratio': 0.1, 'fit_intercept': True}, mean: -1817.59867, std: 542.19043, params: {'alpha': 9.9999999999999995e-07, 'l1_ratio': 0.5, 'fit_intercept': True}, mean: -1817.59913, std: 542.18875, params: {'alpha': 9.9999999999999995e-07, 'l1_ratio': 0.6, 'fit_intercept': True}, mean: -1818.22551, std: 542.37573, params: {'alpha': 9.9999999999999995e-07, 'l1_ratio': 0.1, 'fit_intercept': False}, mean: -1818.22811, std: 542.36761, params: {'alpha': 9.9999999999999995e-07, 'l1_ratio': 0.5, 'fit_intercept': False}, mean: -1818.22875, std: 542.36559, params: {'alpha': 9.9999999999999995e-07, 'l1_ratio': 0.6, 'fit_intercept': False}, mean: -1817.55962, std: 542.33486, params: {'alpha': 1.0000000000000001e-05, 'l1_ratio': 0.1, 'fit_intercept': True}, mean: -1817.57813, std: 542.26774, params: {'alpha': 1.0000000000000001e-05, 'l1_ratio': 0.5, 'fit_intercept': True}, mean: -1817.58275, std: 542.25096, params: {'alpha': 1.0000000000000001e-05, 'l1_ratio': 0.6, 'fit_intercept': True}, mean: -1818.17279, std: 542.54287, params: {'alpha': 1.0000000000000001e-05, 'l1_ratio': 0.1, 'fit_intercept': False}, mean: -1818.19868, std: 542.46177, params: {'alpha': 1.0000000000000001e-05, 'l1_ratio': 0.5, 'fit_intercept': False}, mean: -1818.20515, std: 542.44149, params: {'alpha': 1.0000000000000001e-05, 'l1_ratio': 0.6, 'fit_intercept': False}, mean: -1817.19072, std: 543.70508, params: {'alpha': 0.0001, 'l1_ratio': 0.1, 'fit_intercept': True}, mean: -1817.37354, std: 543.03836, params: {'alpha': 0.0001, 'l1_ratio': 0.5, 'fit_intercept': True}, mean: -1817.41950, std: 542.87130, params: {'alpha': 0.0001, 'l1_ratio': 0.6, 'fit_intercept': True}, mean: -1817.65623, std: 544.20570, params: {'alpha': 0.0001, 'l1_ratio': 0.1, 'fit_intercept': False}, mean: -1817.90774, std: 543.40058, params: {'alpha': 0.0001, 'l1_ratio': 0.5, 'fit_intercept': False}, mean: -1817.97132, std: 543.19873, params: {'alpha': 0.0001, 'l1_ratio': 0.6, 'fit_intercept': False}, mean: -1813.96730, std: 556.96124, params: {'alpha': 0.001, 'l1_ratio': 0.1, 'fit_intercept': True}, mean: -1815.43262, std: 550.58991, params: {'alpha': 0.001, 'l1_ratio': 0.5, 'fit_intercept': True}, mean: -1815.83840, std: 548.97262, params: {'alpha': 0.001, 'l1_ratio': 0.6, 'fit_intercept': True}, mean: -1813.44988, std: 560.04747, params: {'alpha': 0.001, 'l1_ratio': 0.1, 'fit_intercept': False}, mean: -1815.31575, std: 552.53072, params: {'alpha': 0.001, 'l1_ratio': 0.5, 'fit_intercept': False}, mean: -1815.84119, std: 550.60231, params: {'alpha': 0.001, 'l1_ratio': 0.6, 'fit_intercept': False}, mean: -1819.78605, std: 657.36759, params: {'alpha': 0.01, 'l1_ratio': 0.1, 'fit_intercept': True}, mean: -1810.46487, std: 614.87277, params: {'alpha': 0.01, 'l1_ratio': 0.5, 'fit_intercept': True}, mean: -1809.75157, std: 602.48354, params: {'alpha': 0.01, 'l1_ratio': 0.6, 'fit_intercept': True}, mean: -1819.72819, std: 671.67482, params: {'alpha': 0.01, 'l1_ratio': 0.1, 'fit_intercept': False}, mean: -1809.69910, std: 625.62603, params: {'alpha': 0.01, 'l1_ratio': 0.5, 'fit_intercept': False}, mean: -1808.83341, std: 612.07379, params: {'alpha': 0.01, 'l1_ratio': 0.6, 'fit_intercept': False}, mean: -2135.24752, std: 875.75200, params: {'alpha': 0.10000000000000001, 'l1_ratio': 0.1, 'fit_intercept': True}, mean: -2016.98416, std: 832.41394, params: {'alpha': 0.10000000000000001, 'l1_ratio': 0.5, 'fit_intercept': True}, mean: -1975.75897, std: 812.62924, params: {'alpha': 0.10000000000000001, 'l1_ratio': 0.6, 'fit_intercept': True}, mean: -2128.58030, std: 936.99027, params: {'alpha': 0.10000000000000001, 'l1_ratio': 0.1, 'fit_intercept': False}, mean: -2014.96421, std: 872.80422, params: {'alpha': 0.10000000000000001, 'l1_ratio': 0.5, 'fit_intercept': False}, mean: -1975.52151, std: 847.72205, params: {'alpha': 0.10000000000000001, 'l1_ratio': 0.6, 'fit_intercept': False}, mean: -2463.31172, std: 952.61187, params: {'alpha': 1.0, 'l1_ratio': 0.1, 'fit_intercept': True}, mean: -2429.56748, std: 949.50184, params: {'alpha': 1.0, 'l1_ratio': 0.5, 'fit_intercept': True}, mean: -2412.29395, std: 947.60692, params: {'alpha': 1.0, 'l1_ratio': 0.6, 'fit_intercept': True}, mean: -2626.53690, std: 1263.65322, params: {'alpha': 1.0, 'l1_ratio': 0.1, 'fit_intercept': False}, mean: -2483.17242, std: 1179.41413, params: {'alpha': 1.0, 'l1_ratio': 0.5, 'fit_intercept': False}, mean: -2437.39275, std: 1148.55072, params: {'alpha': 1.0, 'l1_ratio': 0.6, 'fit_intercept': False}, mean: -2535.76301, std: 963.75021, params: {'alpha': 10.0, 'l1_ratio': 0.1, 'fit_intercept': True}, mean: -2542.43347, std: 964.11452, params: {'alpha': 10.0, 'l1_ratio': 0.5, 'fit_intercept': True}, mean: -2542.43347, std: 964.11452, params: {'alpha': 10.0, 'l1_ratio': 0.6, 'fit_intercept': True}, mean: -3429.78916, std: 1504.66534, params: {'alpha': 10.0, 'l1_ratio': 0.1, 'fit_intercept': False}, mean: -3352.40611, std: 1505.80156, params: {'alpha': 10.0, 'l1_ratio': 0.5, 'fit_intercept': False}, mean: -3315.47063, std: 1505.30587, params: {'alpha': 10.0, 'l1_ratio': 0.6, 'fit_intercept': False}, mean: -2542.43347, std: 964.11452, params: {'alpha': 100.0, 'l1_ratio': 0.1, 'fit_intercept': True}, mean: -2542.43347, std: 964.11452, params: {'alpha': 100.0, 'l1_ratio': 0.5, 'fit_intercept': True}, mean: -2542.43347, std: 964.11452, params: {'alpha': 100.0, 'l1_ratio': 0.6, 'fit_intercept': True}, mean: -3685.77190, std: 1540.45465, params: {'alpha': 100.0, 'l1_ratio': 0.1, 'fit_intercept': False}, mean: -3703.63870, std: 1540.15879, params: {'alpha': 100.0, 'l1_ratio': 0.5, 'fit_intercept': False}, mean: -3703.63870, std: 1540.15879, params: {'alpha': 100.0, 'l1_ratio': 0.6, 'fit_intercept': False}, mean: -2542.43347, std: 964.11452, params: {'alpha': 1000.0, 'l1_ratio': 0.1, 'fit_intercept': True}, mean: -2542.43347, std: 964.11452, params: {'alpha': 1000.0, 'l1_ratio': 0.5, 'fit_intercept': True}, mean: -2542.43347, std: 964.11452, params: {'alpha': 1000.0, 'l1_ratio': 0.6, 'fit_intercept': True}, mean: -3703.63870, std: 1540.15879, params: {'alpha': 1000.0, 'l1_ratio': 0.1, 'fit_intercept': False}, mean: -3703.63870, std: 1540.15879, params: {'alpha': 1000.0, 'l1_ratio': 0.5, 'fit_intercept': False}, mean: -3703.63870, std: 1540.15879, params: {'alpha': 1000.0, 'l1_ratio': 0.6, 'fit_intercept': False}, mean: -2542.43347, std: 964.11452, params: {'alpha': 10000.0, 'l1_ratio': 0.1, 'fit_intercept': True}, mean: -2542.43347, std: 964.11452, params: {'alpha': 10000.0, 'l1_ratio': 0.5, 'fit_intercept': True}, mean: -2542.43347, std: 964.11452, params: {'alpha': 10000.0, 'l1_ratio': 0.6, 'fit_intercept': True}, mean: -3703.63870, std: 1540.15879, params: {'alpha': 10000.0, 'l1_ratio': 0.1, 'fit_intercept': False}, mean: -3703.63870, std: 1540.15879, params: {'alpha': 10000.0, 'l1_ratio': 0.5, 'fit_intercept': False}, mean: -3703.63870, std: 1540.15879, params: {'alpha': 10000.0, 'l1_ratio': 0.6, 'fit_intercept': False}, mean: -2542.43347, std: 964.11452, params: {'alpha': 100000.0, 'l1_ratio': 0.1, 'fit_intercept': True}, mean: -2542.43347, std: 964.11452, params: {'alpha': 100000.0, 'l1_ratio': 0.5, 'fit_intercept': True}, mean: -2542.43347, std: 964.11452, params: {'alpha': 100000.0, 'l1_ratio': 0.6, 'fit_intercept': True}, mean: -3703.63870, std: 1540.15879, params: {'alpha': 100000.0, 'l1_ratio': 0.1, 'fit_intercept': False}, mean: -3703.63870, std: 1540.15879, params: {'alpha': 100000.0, 'l1_ratio': 0.5, 'fit_intercept': False}, mean: -3703.63870, std: 1540.15879, params: {'alpha': 100000.0, 'l1_ratio': 0.6, 'fit_intercept': False}, mean: -2542.43347, std: 964.11452, params: {'alpha': 1000000.0, 'l1_ratio': 0.1, 'fit_intercept': True}, mean: -2542.43347, std: 964.11452, params: {'alpha': 1000000.0, 'l1_ratio': 0.5, 'fit_intercept': True}, mean: -2542.43347, std: 964.11452, params: {'alpha': 1000000.0, 'l1_ratio': 0.6, 'fit_intercept': True}, mean: -3703.63870, std: 1540.15879, params: {'alpha': 1000000.0, 'l1_ratio': 0.1, 'fit_intercept': False}, mean: -3703.63870, std: 1540.15879, params: {'alpha': 1000000.0, 'l1_ratio': 0.5, 'fit_intercept': False}, mean: -3703.63870, std: 1540.15879, params: {'alpha': 1000000.0, 'l1_ratio': 0.6, 'fit_intercept': False}, mean: -2542.43347, std: 964.11452, params: {'alpha': 10000000.0, 'l1_ratio': 0.1, 'fit_intercept': True}, mean: -2542.43347, std: 964.11452, params: {'alpha': 10000000.0, 'l1_ratio': 0.5, 'fit_intercept': True}, mean: -2542.43347, std: 964.11452, params: {'alpha': 10000000.0, 'l1_ratio': 0.6, 'fit_intercept': True}, mean: -3703.63870, std: 1540.15879, params: {'alpha': 10000000.0, 'l1_ratio': 0.1, 'fit_intercept': False}, mean: -3703.63870, std: 1540.15879, params: {'alpha': 10000000.0, 'l1_ratio': 0.5, 'fit_intercept': False}, mean: -3703.63870, std: 1540.15879, params: {'alpha': 10000000.0, 'l1_ratio': 0.6, 'fit_intercept': False}, mean: -2542.43347, std: 964.11452, params: {'alpha': 100000000.0, 'l1_ratio': 0.1, 'fit_intercept': True}, mean: -2542.43347, std: 964.11452, params: {'alpha': 100000000.0, 'l1_ratio': 0.5, 'fit_intercept': True}, mean: -2542.43347, std: 964.11452, params: {'alpha': 100000000.0, 'l1_ratio': 0.6, 'fit_intercept': True}, mean: -3703.63870, std: 1540.15879, params: {'alpha': 100000000.0, 'l1_ratio': 0.1, 'fit_intercept': False}, mean: -3703.63870, std: 1540.15879, params: {'alpha': 100000000.0, 'l1_ratio': 0.5, 'fit_intercept': False}, mean: -3703.63870, std: 1540.15879, params: {'alpha': 100000000.0, 'l1_ratio': 0.6, 'fit_intercept': False}, mean: -2542.43347, std: 964.11452, params: {'alpha': 1000000000.0, 'l1_ratio': 0.1, 'fit_intercept': True}, mean: -2542.43347, std: 964.11452, params: {'alpha': 1000000000.0, 'l1_ratio': 0.5, 'fit_intercept': True}, mean: -2542.43347, std: 964.11452, params: {'alpha': 1000000000.0, 'l1_ratio': 0.6, 'fit_intercept': True}, mean: -3703.63870, std: 1540.15879, params: {'alpha': 1000000000.0, 'l1_ratio': 0.1, 'fit_intercept': False}, mean: -3703.63870, std: 1540.15879, params: {'alpha': 1000000000.0, 'l1_ratio': 0.5, 'fit_intercept': False}, mean: -3703.63870, std: 1540.15879, params: {'alpha': 1000000000.0, 'l1_ratio': 0.6, 'fit_intercept': False}, mean: -2542.43347, std: 964.11452, params: {'alpha': 10000000000.0, 'l1_ratio': 0.1, 'fit_intercept': True}, mean: -2542.43347, std: 964.11452, params: {'alpha': 10000000000.0, 'l1_ratio': 0.5, 'fit_intercept': True}, mean: -2542.43347, std: 964.11452, params: {'alpha': 10000000000.0, 'l1_ratio': 0.6, 'fit_intercept': True}, mean: -3703.63870, std: 1540.15879, params: {'alpha': 10000000000.0, 'l1_ratio': 0.1, 'fit_intercept': False}, mean: -3703.63870, std: 1540.15879, params: {'alpha': 10000000000.0, 'l1_ratio': 0.5, 'fit_intercept': False}, mean: -3703.63870, std: 1540.15879, params: {'alpha': 10000000000.0, 'l1_ratio': 0.6, 'fit_intercept': False}]\n"
     ]
    }
   ],
   "source": [
    "print es.grid_scores_ "
   ]
  },
  {
   "cell_type": "markdown",
   "metadata": {},
   "source": [
    "## Gradient Descent"
   ]
  },
  {
   "cell_type": "code",
   "execution_count": 84,
   "metadata": {
    "collapsed": false
   },
   "outputs": [
    {
     "name": "stdout",
     "output_type": "stream",
     "text": [
      "5.2 is better than 6.2\n",
      "found better solution! using 5.2\n",
      "4.2 is better than 5.2\n",
      "found better solution! using 4.2\n",
      "3.2 is better than 4.2\n",
      "found better solution! using 3.2\n",
      "2.2 is better than 3.2\n",
      "found better solution! using 2.2\n",
      "1.2 is better than 2.2\n",
      "found better solution! using 1.2\n",
      "0.2 is better than 1.2\n",
      "found better solution! using 0.2\n",
      "6.0 is closest to 6.2\n"
     ]
    }
   ],
   "source": [
    "num_to_approach, start, steps, optimized = 6.2, 0., [-1, 1], False\n",
    "while not optimized:\n",
    "    current_distance = num_to_approach - start\n",
    "    got_better = False\n",
    "    next_steps = [start + i for i in steps]\n",
    "    for n in next_steps:\n",
    "        distance = np.abs(num_to_approach - n)\n",
    "        if distance < current_distance:\n",
    "            got_better = True\n",
    "            print distance, 'is better than', current_distance\n",
    "            current_distance = distance\n",
    "            start = n\n",
    "    if got_better:\n",
    "        print 'found better solution! using', current_distance\n",
    "        a += 1\n",
    "    else:\n",
    "        optimized = True\n",
    "        print start, 'is closest to', num_to_approach\n"
   ]
  },
  {
   "cell_type": "markdown",
   "metadata": {},
   "source": [
    "###Bonus: \n",
    "implement a stopping point, similar to what n_iter would do in gradient descent when we've reached \"good enough\""
   ]
  },
  {
   "cell_type": "code",
   "execution_count": null,
   "metadata": {
    "collapsed": false
   },
   "outputs": [],
   "source": [
    "\n",
    "\n"
   ]
  },
  {
   "cell_type": "markdown",
   "metadata": {},
   "source": [
    "##Demo: Application of Gradient Descent "
   ]
  },
  {
   "cell_type": "code",
   "execution_count": 117,
   "metadata": {
    "collapsed": false
   },
   "outputs": [
    {
     "name": "stdout",
     "output_type": "stream",
     "text": [
      "Gradient Descent R2: 0.30853517891\n",
      "Gradient Descent MSE: 1680.84459185\n"
     ]
    }
   ],
   "source": [
    "lm = linear_model.SGDRegressor()\n",
    "lm.fit(modeldata, y)\n",
    "print \"Gradient Descent R2:\", lm.score(modeldata, y)\n",
    "print \"Gradient Descent MSE:\", metrics.mean_squared_error(y, lm.predict(modeldata))"
   ]
  },
  {
   "cell_type": "markdown",
   "metadata": {},
   "source": [
    "###Check: Untuned, how well did gradient descent perform compared to OLS?"
   ]
  },
  {
   "cell_type": "markdown",
   "metadata": {},
   "source": [
    "Answer: "
   ]
  },
  {
   "cell_type": "markdown",
   "metadata": {},
   "source": [
    "#Independent Practice: Bike data revisited\n",
    "\n",
    "There are tons of ways to approach a regression problem. The regularization techniques appended to ordinary least squares optimizes the size of coefficients to best account for error. Gradient Descent also introduces learning rate (how aggressively do we solve the problem), epsilon (at what point do we say the error margin is acceptable), and iterations (when should we stop no matter what?)\n",
    "\n",
    "For this deliverable, our goals are to:\n",
    "\n",
    "- implement the gradient descent approach to our bike-share modeling problem,\n",
    "- show how gradient descent solves and optimizes the solution,\n",
    "- demonstrate the grid_search module!\n",
    "\n",
    "While exploring the Gradient Descent regressor object, you'll build a grid search using the stochastic gradient descent estimator for the bike-share data set. Continue with either the model you evaluated last class or the simpler one from today. In particular, be sure to implement the \"param_grid\" in the grid search to get answers for the following questions:\n",
    "\n",
    "- With a set of alpha values between 10^-10 and 10^-1, how does the mean squared error change?\n",
    "- Based on the data, we know when to properly use l1 vs l2 regularization. By using a grid search with l1_ratios between 0 and 1 (increasing every 0.05), does that statement hold true? If not, did gradient descent have enough iterations?\n",
    "- How do these results change when you alter the learning rate (eta0)?\n",
    "\n",
    "**Bonus**: Can you see the advantages and disadvantages of using gradient descent after finishing this exercise?"
   ]
  },
  {
   "cell_type": "markdown",
   "metadata": {},
   "source": [
    "### Starter Code"
   ]
  },
  {
   "cell_type": "code",
   "execution_count": null,
   "metadata": {
    "collapsed": true
   },
   "outputs": [],
   "source": [
    "params = {} # put your gradient descent parameters here\n",
    "gs = grid_search.GridSearchCV(\n",
    "    estimator=linear_model.SGDRegressor(),\n",
    "    cv=cross_validation.KFold(len(modeldata), n_folds=5, shuffle=True),\n",
    "    param_grid=params,\n",
    "    scoring='mean_squared_error',\n",
    "    )\n",
    "\n",
    "gs.fit(modeldata, y)\n",
    "\n",
    "print 'BEST ESTIMATOR'\n",
    "print -gs.best_score_\n",
    "print gs.best_estimator_\n",
    "print 'ALL ESTIMATORS'\n",
    "print gs.grid_scores_"
   ]
  },
  {
   "cell_type": "code",
   "execution_count": 19,
   "metadata": {
    "collapsed": true
   },
   "outputs": [],
   "source": [
    "## go for it!"
   ]
  },
  {
   "cell_type": "code",
   "execution_count": null,
   "metadata": {
    "collapsed": true
   },
   "outputs": [],
   "source": []
  }
 ],
 "metadata": {
  "anaconda-cloud": {},
  "kernelspec": {
   "display_name": "Python [default]",
   "language": "python",
   "name": "python2"
  },
  "language_info": {
   "codemirror_mode": {
    "name": "ipython",
    "version": 2
   },
   "file_extension": ".py",
   "mimetype": "text/x-python",
   "name": "python",
   "nbconvert_exporter": "python",
   "pygments_lexer": "ipython2",
   "version": "2.7.12"
  }
 },
 "nbformat": 4,
 "nbformat_minor": 0
}
