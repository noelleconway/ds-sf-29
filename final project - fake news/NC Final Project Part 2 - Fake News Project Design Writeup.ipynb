{
 "cells": [
  {
   "cell_type": "markdown",
   "metadata": {},
   "source": [
    "# Fake News Project Design Writeup"
   ]
  },
  {
   "cell_type": "markdown",
   "metadata": {},
   "source": [
    "### Project Problem and Hypothesis"
   ]
  },
  {
   "cell_type": "markdown",
   "metadata": {},
   "source": [
    "The goal of this project is to analyze fake news stories and try to identify similarities in order to make it easier to differentiate legitimate news from fake posts. This project could have a big impact given the spread of fake news on social media and its growing impact on society. I believe that the website will have the biggest impact in predicting what I'm solving for."
   ]
  },
  {
   "cell_type": "markdown",
   "metadata": {},
   "source": [
    "### Datasets"
   ]
  },
  {
   "cell_type": "markdown",
   "metadata": {},
   "source": [
    "I’ll be using a dataset of fake news from kaggle that includes domain, author, date published, article title, article text, spam score, number of facebook likes. I considered building my own dataset by trying to pull a list of most commonly shared articles, but I thought that would involve too much data cleaning for the scope of this project."
   ]
  },
  {
   "cell_type": "markdown",
   "metadata": {},
   "source": [
    "### Domain knowledge"
   ]
  },
  {
   "cell_type": "markdown",
   "metadata": {},
   "source": [
    "Fake news became a trending topic after multiple news sites looked into its influence on Trump's election. Facebook is trying to get users to manually classify fake news and plans to use that information to flag fake news sites to users."
   ]
  },
  {
   "cell_type": "markdown",
   "metadata": {},
   "source": [
    "### Project Concerns"
   ]
  },
  {
   "cell_type": "markdown",
   "metadata": {},
   "source": [
    "The dataset was built using a chrome extension BS detector, which is a list of domains made by some rando who classified the sites, so it this isn’t a comprehensive list of sites and would include that person’s biases.\n",
    "With more time, next steps would include building a dataset with news from all news sources and training a model to classify news as real or fake.\n",
    "\n",
    "I'm concerned that I won't be able to find any correlation between any of the factors."
   ]
  },
  {
   "cell_type": "markdown",
   "metadata": {},
   "source": [
    "### Outcomes"
   ]
  },
  {
   "cell_type": "markdown",
   "metadata": {},
   "source": [
    "If I can write a latent variable model that runs I'll consider my project a success, and if I can actually find defining factors of fake news, I'll consider the project a double success.\n",
    "\n",
    "If the project is a bust in terms of not finding out any information, I'll be kind of bummed, but still proud of myslef for writing code that worked."
   ]
  }
 ],
 "metadata": {
  "anaconda-cloud": {},
  "kernelspec": {
   "display_name": "Python [default]",
   "language": "python",
   "name": "python2"
  },
  "language_info": {
   "codemirror_mode": {
    "name": "ipython",
    "version": 2
   },
   "file_extension": ".py",
   "mimetype": "text/x-python",
   "name": "python",
   "nbconvert_exporter": "python",
   "pygments_lexer": "ipython2",
   "version": "2.7.12"
  }
 },
 "nbformat": 4,
 "nbformat_minor": 1
}
